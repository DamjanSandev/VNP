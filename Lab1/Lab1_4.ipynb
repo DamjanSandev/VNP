{
 "nbformat": 4,
 "nbformat_minor": 0,
 "metadata": {
  "colab": {
   "provenance": []
  },
  "kernelspec": {
   "name": "python3",
   "display_name": "Python 3 (ipykernel)",
   "language": "python"
  },
  "language_info": {
   "name": "python"
  }
 },
 "cells": [
  {
   "cell_type": "markdown",
   "source": [
    "# Requirements"
   ],
   "metadata": {
    "id": "IG0xXF7T0x2h"
   }
  },
  {
   "cell_type": "code",
   "source": [
    "import matplotlib.pyplot as plt\n",
    "from selenium import webdriver\n",
    "from selenium.webdriver.common.by import By\n",
    "import pandas as pd\n",
    "import matplotlib.pyplot as plt"
   ],
   "metadata": {
    "id": "k75Qsxvc0zzZ",
    "ExecuteTime": {
     "end_time": "2024-11-05T15:57:23.831748Z",
     "start_time": "2024-11-05T15:57:23.828976Z"
    }
   },
   "outputs": [],
   "execution_count": 30
  },
  {
   "cell_type": "markdown",
   "source": [
    "# Configuration"
   ],
   "metadata": {
    "id": "OqXF3IZU00_g"
   }
  },
  {
   "cell_type": "code",
   "source": [
    "options = webdriver.EdgeOptions()\n",
    "options.add_argument('--headless')\n",
    "options.add_argument('--no-sandbox')\n",
    "options.add_argument('--disable-dev-shm-usage')"
   ],
   "metadata": {
    "id": "2MLM03DJ02TK",
    "ExecuteTime": {
     "end_time": "2024-11-05T15:21:52.397430Z",
     "start_time": "2024-11-05T15:21:52.394104Z"
    }
   },
   "outputs": [],
   "execution_count": 2
  },
  {
   "cell_type": "markdown",
   "source": [
    "# Simple Usage"
   ],
   "metadata": {
    "id": "vhsS7FZU03uf"
   }
  },
  {
   "cell_type": "code",
   "source": [
    "# Initialize the webdriver.\n",
    "browser = webdriver.Edge(options=options)"
   ],
   "metadata": {
    "id": "XAR-vEvw03hB",
    "ExecuteTime": {
     "end_time": "2024-11-05T15:22:06.547022Z",
     "start_time": "2024-11-05T15:21:56.198824Z"
    }
   },
   "outputs": [],
   "execution_count": 3
  },
  {
   "cell_type": "code",
   "source": [
    "# Navigate to a web page.\n",
    "browser.get('https://finance.yahoo.com/crypto')"
   ],
   "metadata": {
    "id": "SRlMjKmz05uN",
    "ExecuteTime": {
     "end_time": "2024-11-05T15:22:14.483097Z",
     "start_time": "2024-11-05T15:22:10.478815Z"
    }
   },
   "outputs": [],
   "execution_count": 4
  },
  {
   "cell_type": "code",
   "source": [
    "# Print the page source code.\n",
    "print(browser.page_source)"
   ],
   "metadata": {
    "id": "XENkqBtc07ql"
   },
   "execution_count": null,
   "outputs": []
  },
  {
   "cell_type": "markdown",
   "source": [
    "# Laboratory Exercise - Run Mode (8 points)"
   ],
   "metadata": {
    "id": "M9CVMKMx0-SY"
   }
  },
  {
   "cell_type": "markdown",
   "source": [
    "In this laboratory assignment, the goal is to perform web scraping using **Selenium** on the website https://finance.yahoo.com/crypto. The task includes the extraction of **Cryptocurrency names** and their **price** and **market cap**. Following this data extraction, you will construct a data frame to organize the collected data. Finally, you are expected to generate a histogram to provide a visual representation of the distribution of the prices."
   ],
   "metadata": {
    "id": "dGHA83FS1Lqk"
   }
  },
  {
   "cell_type": "markdown",
   "source": [
    "## Hints\n",
    "- To navigate to a specific page with a given URL, use the `browser.get(url)` method.\n",
    "- When selecting a single element, use `browser.find_element`, and for multiple elements, use `browser.find_elements`. Both of these functions take two arguments. The first specifies the attribute used to locate the element on the web page, and the second specifies the value of that attribute.\n",
    "- The `By` class is used to specify which attribute is used to locate elements on a page. These are the various ways the attributes are used to locate elements on a page: `By.ID`, `By.NAME`, `By.TAG_NAME`, `BY.CLASS_NAME`, `By.CSS_SELECTOR`, etc.\n",
    "- For more details, check the documentation (https://selenium-python.readthedocs.io/locating-elements.html)."
   ],
   "metadata": {
    "id": "TMBGzB374oRM"
   }
  },
  {
   "cell_type": "markdown",
   "source": "## Solution",
   "metadata": {
    "id": "MOV5K_ji5iQi"
   }
  },
  {
   "cell_type": "code",
   "source": [
    "# Write your code here.\n",
    "names = []\n",
    "prices = []\n",
    "market_cap = []\n",
    "for i in range(0, 25):\n",
    "    row = browser.find_element(By.ID, i)\n",
    "    name = row.find_element(By.CSS_SELECTOR,'td:nth-child(2) div').get_attribute('title')\n",
    "    price = row.find_element(By.CSS_SELECTOR, 'td:nth-child(4) span').text.replace(\",\",\"\")\n",
    "    cap = row.find_element(By.CSS_SELECTOR, '[data-field=\"marketCap\"]').text\n",
    "    names.append(name)\n",
    "    prices.append(float(price))\n",
    "    market_cap.append(cap)\n"
   ],
   "metadata": {
    "id": "Naeba0l31AVU",
    "ExecuteTime": {
     "end_time": "2024-11-05T15:54:04.612976Z",
     "start_time": "2024-11-05T15:54:03.712431Z"
    }
   },
   "outputs": [],
   "execution_count": 26
  },
  {
   "cell_type": "code",
   "source": [
    "# Add as many code boxes as you need.\n",
    "data={\n",
    "    \"Name\": names,\n",
    "    \"Price\": prices,\n",
    "    \"Market Cap\": market_cap\n",
    "}\n",
    "df = pd.DataFrame(data)\n",
    "print(df)"
   ],
   "metadata": {
    "id": "PFK34b5R5c0N",
    "ExecuteTime": {
     "end_time": "2024-11-05T15:54:31.652047Z",
     "start_time": "2024-11-05T15:54:31.641403Z"
    }
   },
   "outputs": [
    {
     "name": "stdout",
     "output_type": "stream",
     "text": [
      "                   Name         Price Market Cap\n",
      "0           Bitcoin USD  69783.950000      1.38T\n",
      "1          Ethereum USD   2450.280000   295.056B\n",
      "2       Tether USDt USD      1.000100   120.511B\n",
      "3               BNB USD    566.380000    81.615B\n",
      "4            Solana USD    166.870000     78.58B\n",
      "5          USD Coin USD      1.000100    35.201B\n",
      "6               XRP USD      0.511179     29.07B\n",
      "7          Dogecoin USD      0.175977     25.81B\n",
      "8   Lido Staked ETH USD   2460.600000    23.985B\n",
      "9      Wrapped TRON USD      0.162003    14.163B\n",
      "10             TRON USD      0.162023    14.006B\n",
      "11          Toncoin USD      4.680300    11.908B\n",
      "12          Cardano USD      0.335261    11.732B\n",
      "13      Lido wstETH USD   2905.210000    10.899B\n",
      "14        Shiba Inu USD      0.000018    10.774B\n",
      "15  Wrapped Bitcoin USD  69471.780000    10.213B\n",
      "16        Avalanche USD     24.010000     9.776B\n",
      "17             WETH USD   2453.990000     8.283B\n",
      "18     Bitcoin Cash USD    342.920000     6.784B\n",
      "19        Chainlink USD     10.820000     6.782B\n",
      "20         Polkadot USD      3.877800     5.873B\n",
      "21              Sui USD      2.013500      5.73B\n",
      "22             USDS USD      0.997153     5.607B\n",
      "23     UNUS SED LEO USD      6.052400     5.599B\n",
      "24              Dai USD      1.000300     5.367B\n"
     ]
    }
   ],
   "execution_count": 28
  },
  {
   "metadata": {
    "ExecuteTime": {
     "end_time": "2024-11-05T15:58:15.922897Z",
     "start_time": "2024-11-05T15:58:15.828977Z"
    }
   },
   "cell_type": "code",
   "source": [
    "plt.hist(df['Price'],bins=10,edgecolor='black')\n",
    "plt.xlabel('Price')\n",
    "plt.ylabel('Frequency')\n",
    "plt.title('Distribution of Prices')\n",
    "plt.show()"
   ],
   "outputs": [
    {
     "data": {
      "text/plain": [
       "<Figure size 640x480 with 1 Axes>"
      ],
      "image/png": "[encoded data removed]"
     },
     "metadata": {},
     "output_type": "display_data"
    }
   ],
   "execution_count": 33
  },
  {
   "cell_type": "markdown",
   "source": [
    "# Laboratory Exercise - Bonus Task (+ 2 points)"
   ],
   "metadata": {
    "id": "oCkjUHg75fNe"
   }
  },
  {
   "cell_type": "markdown",
   "source": [
    "The additional task involves clicking on the symbol for BTC-USD and on the new page that appears click on the **Historical data**. You will extract the prices and market caps for the BTC-USD only, and make line plot for the price data."
   ],
   "metadata": {
    "id": "t1qEBqeW8UJa"
   }
  },
  {
   "cell_type": "markdown",
   "source": [
    "## Hints\n",
    "- To populate an input field (`input_field`) with some `text` use `input_field.send_keys(text)`.\n",
    "- To click on a specific `element` on a web page use `element.click()`."
   ],
   "metadata": {
    "id": "DgXk1c4k-5dR"
   }
  },
  {
   "cell_type": "markdown",
   "source": [
    "## Solution"
   ],
   "metadata": {
    "id": "AXxIi7bv9lPw"
   }
  },
  {
   "cell_type": "code",
   "source": [
    "# Write your code here.\n",
    "button=browser.find_element(By.CSS_SELECTOR,'#\\\\30  > td:nth-child(1) > span > div > a')\n",
    "button.click()\n",
    "historical_data=browser.find_element(By.CSS_SELECTOR,'#nimbus-app > section > section > aside > section > nav > ul > li:nth-child(5) > a')\n",
    "historical_data.click()\n"
   ],
   "metadata": {
    "id": "ztX3X1pB5f4j",
    "ExecuteTime": {
     "end_time": "2024-11-05T16:04:52.987888Z",
     "start_time": "2024-11-05T16:04:52.944076Z"
    }
   },
   "outputs": [
    {
     "ename": "NoSuchElementException",
     "evalue": "Message: no such element: Unable to locate element: {\"method\":\"css selector\",\"selector\":\"#\\30  > td:nth-child(1) > span > div > a\"}\n  (Session info: MicrosoftEdge=130.0.2849.68); For documentation on this error, please visit: https://www.selenium.dev/documentation/webdriver/troubleshooting/errors#no-such-element-exception\nStacktrace:\n\tGetHandleVerifier [0x00007FF6522EDC65+12853]\n\tMicrosoft::Applications::Events::EventProperty::empty [0x00007FF6525983B4+2250276]\n\tMicrosoft::Applications::Events::EventProperty::empty [0x00007FF6524D7696+1460486]\n\t(No symbol) [0x00007FF6520E97CC]\n\t(No symbol) [0x00007FF6520E990C]\n\t(No symbol) [0x00007FF652123857]\n\t(No symbol) [0x00007FF65210853F]\n\t(No symbol) [0x00007FF6520E0617]\n\t(No symbol) [0x00007FF652121431]\n\t(No symbol) [0x00007FF652108163]\n\t(No symbol) [0x00007FF6520DFB54]\n\t(No symbol) [0x00007FF6520DF000]\n\t(No symbol) [0x00007FF6520DF741]\n\tMicrosoft::Applications::Events::EventProperty::empty [0x00007FF65246CDA4+1024020]\n\tMicrosoft::Applications::Events::EventProperty::~EventProperty [0x00007FF652209A04+57108]\n\tMicrosoft::Applications::Events::EventProperty::empty [0x00007FF65246BDA3+1019923]\n\tMicrosoft::Applications::Events::EventProperty::empty [0x00007FF65246BA09+1019001]\n\tMicrosoft::Applications::Events::ILogConfiguration::operator* [0x00007FF65228E021+394913]\n\tMicrosoft::Applications::Events::ILogConfiguration::operator* [0x00007FF65228A944+380868]\n\tMicrosoft::Applications::Events::ILogConfiguration::operator* [0x00007FF65228AA89+381193]\n\tMicrosoft::Applications::Events::ILogConfiguration::operator* [0x00007FF652282286+346374]\n\tBaseThreadInitThunk [0x00007FFADAE97374+20]\n\tRtlUserThreadStart [0x00007FFADB13CC91+33]\n",
     "output_type": "error",
     "traceback": [
      "\u001B[1;31m---------------------------------------------------------------------------\u001B[0m",
      "\u001B[1;31mNoSuchElementException\u001B[0m                    Traceback (most recent call last)",
      "Cell \u001B[1;32mIn[36], line 2\u001B[0m\n\u001B[0;32m      1\u001B[0m \u001B[38;5;66;03m# Write your code here.\u001B[39;00m\n\u001B[1;32m----> 2\u001B[0m button\u001B[38;5;241m=\u001B[39mbrowser\u001B[38;5;241m.\u001B[39mfind_element(By\u001B[38;5;241m.\u001B[39mCSS_SELECTOR,\u001B[38;5;124m'\u001B[39m\u001B[38;5;124m#\u001B[39m\u001B[38;5;130;01m\\\\\u001B[39;00m\u001B[38;5;124m30  > td:nth-child(1) > span > div > a\u001B[39m\u001B[38;5;124m'\u001B[39m)\n\u001B[0;32m      3\u001B[0m button\u001B[38;5;241m.\u001B[39mclick()\n\u001B[0;32m      4\u001B[0m historical_data\u001B[38;5;241m=\u001B[39mbrowser\u001B[38;5;241m.\u001B[39mfind_element(By\u001B[38;5;241m.\u001B[39mCSS_SELECTOR,\u001B[38;5;124m'\u001B[39m\u001B[38;5;124m#nimbus-app > section > section > aside > section > nav > ul > li:nth-child(5) > a\u001B[39m\u001B[38;5;124m'\u001B[39m)\n",
      "File \u001B[1;32m~\\miniconda3\\Lib\\site-packages\\selenium\\webdriver\\remote\\webdriver.py:748\u001B[0m, in \u001B[0;36mWebDriver.find_element\u001B[1;34m(self, by, value)\u001B[0m\n\u001B[0;32m    745\u001B[0m     by \u001B[38;5;241m=\u001B[39m By\u001B[38;5;241m.\u001B[39mCSS_SELECTOR\n\u001B[0;32m    746\u001B[0m     value \u001B[38;5;241m=\u001B[39m \u001B[38;5;124mf\u001B[39m\u001B[38;5;124m'\u001B[39m\u001B[38;5;124m[name=\u001B[39m\u001B[38;5;124m\"\u001B[39m\u001B[38;5;132;01m{\u001B[39;00mvalue\u001B[38;5;132;01m}\u001B[39;00m\u001B[38;5;124m\"\u001B[39m\u001B[38;5;124m]\u001B[39m\u001B[38;5;124m'\u001B[39m\n\u001B[1;32m--> 748\u001B[0m \u001B[38;5;28;01mreturn\u001B[39;00m \u001B[38;5;28mself\u001B[39m\u001B[38;5;241m.\u001B[39mexecute(Command\u001B[38;5;241m.\u001B[39mFIND_ELEMENT, {\u001B[38;5;124m\"\u001B[39m\u001B[38;5;124musing\u001B[39m\u001B[38;5;124m\"\u001B[39m: by, \u001B[38;5;124m\"\u001B[39m\u001B[38;5;124mvalue\u001B[39m\u001B[38;5;124m\"\u001B[39m: value})[\u001B[38;5;124m\"\u001B[39m\u001B[38;5;124mvalue\u001B[39m\u001B[38;5;124m\"\u001B[39m]\n",
      "File \u001B[1;32m~\\miniconda3\\Lib\\site-packages\\selenium\\webdriver\\remote\\webdriver.py:354\u001B[0m, in \u001B[0;36mWebDriver.execute\u001B[1;34m(self, driver_command, params)\u001B[0m\n\u001B[0;32m    352\u001B[0m response \u001B[38;5;241m=\u001B[39m \u001B[38;5;28mself\u001B[39m\u001B[38;5;241m.\u001B[39mcommand_executor\u001B[38;5;241m.\u001B[39mexecute(driver_command, params)\n\u001B[0;32m    353\u001B[0m \u001B[38;5;28;01mif\u001B[39;00m response:\n\u001B[1;32m--> 354\u001B[0m     \u001B[38;5;28mself\u001B[39m\u001B[38;5;241m.\u001B[39merror_handler\u001B[38;5;241m.\u001B[39mcheck_response(response)\n\u001B[0;32m    355\u001B[0m     response[\u001B[38;5;124m\"\u001B[39m\u001B[38;5;124mvalue\u001B[39m\u001B[38;5;124m\"\u001B[39m] \u001B[38;5;241m=\u001B[39m \u001B[38;5;28mself\u001B[39m\u001B[38;5;241m.\u001B[39m_unwrap_value(response\u001B[38;5;241m.\u001B[39mget(\u001B[38;5;124m\"\u001B[39m\u001B[38;5;124mvalue\u001B[39m\u001B[38;5;124m\"\u001B[39m, \u001B[38;5;28;01mNone\u001B[39;00m))\n\u001B[0;32m    356\u001B[0m     \u001B[38;5;28;01mreturn\u001B[39;00m response\n",
      "File \u001B[1;32m~\\miniconda3\\Lib\\site-packages\\selenium\\webdriver\\remote\\errorhandler.py:229\u001B[0m, in \u001B[0;36mErrorHandler.check_response\u001B[1;34m(self, response)\u001B[0m\n\u001B[0;32m    227\u001B[0m         alert_text \u001B[38;5;241m=\u001B[39m value[\u001B[38;5;124m\"\u001B[39m\u001B[38;5;124malert\u001B[39m\u001B[38;5;124m\"\u001B[39m]\u001B[38;5;241m.\u001B[39mget(\u001B[38;5;124m\"\u001B[39m\u001B[38;5;124mtext\u001B[39m\u001B[38;5;124m\"\u001B[39m)\n\u001B[0;32m    228\u001B[0m     \u001B[38;5;28;01mraise\u001B[39;00m exception_class(message, screen, stacktrace, alert_text)  \u001B[38;5;66;03m# type: ignore[call-arg]  # mypy is not smart enough here\u001B[39;00m\n\u001B[1;32m--> 229\u001B[0m \u001B[38;5;28;01mraise\u001B[39;00m exception_class(message, screen, stacktrace)\n",
      "\u001B[1;31mNoSuchElementException\u001B[0m: Message: no such element: Unable to locate element: {\"method\":\"css selector\",\"selector\":\"#\\30  > td:nth-child(1) > span > div > a\"}\n  (Session info: MicrosoftEdge=130.0.2849.68); For documentation on this error, please visit: https://www.selenium.dev/documentation/webdriver/troubleshooting/errors#no-such-element-exception\nStacktrace:\n\tGetHandleVerifier [0x00007FF6522EDC65+12853]\n\tMicrosoft::Applications::Events::EventProperty::empty [0x00007FF6525983B4+2250276]\n\tMicrosoft::Applications::Events::EventProperty::empty [0x00007FF6524D7696+1460486]\n\t(No symbol) [0x00007FF6520E97CC]\n\t(No symbol) [0x00007FF6520E990C]\n\t(No symbol) [0x00007FF652123857]\n\t(No symbol) [0x00007FF65210853F]\n\t(No symbol) [0x00007FF6520E0617]\n\t(No symbol) [0x00007FF652121431]\n\t(No symbol) [0x00007FF652108163]\n\t(No symbol) [0x00007FF6520DFB54]\n\t(No symbol) [0x00007FF6520DF000]\n\t(No symbol) [0x00007FF6520DF741]\n\tMicrosoft::Applications::Events::EventProperty::empty [0x00007FF65246CDA4+1024020]\n\tMicrosoft::Applications::Events::EventProperty::~EventProperty [0x00007FF652209A04+57108]\n\tMicrosoft::Applications::Events::EventProperty::empty [0x00007FF65246BDA3+1019923]\n\tMicrosoft::Applications::Events::EventProperty::empty [0x00007FF65246BA09+1019001]\n\tMicrosoft::Applications::Events::ILogConfiguration::operator* [0x00007FF65228E021+394913]\n\tMicrosoft::Applications::Events::ILogConfiguration::operator* [0x00007FF65228A944+380868]\n\tMicrosoft::Applications::Events::ILogConfiguration::operator* [0x00007FF65228AA89+381193]\n\tMicrosoft::Applications::Events::ILogConfiguration::operator* [0x00007FF652282286+346374]\n\tBaseThreadInitThunk [0x00007FFADAE97374+20]\n\tRtlUserThreadStart [0x00007FFADB13CC91+33]\n"
     ]
    }
   ],
   "execution_count": 36
  },
  {
   "cell_type": "code",
   "source": [
    "# Add as many code boxes as you need."
   ],
   "metadata": {
    "id": "U-7KiLUF9hxp"
   },
   "execution_count": null,
   "outputs": []
  }
 ]
}
