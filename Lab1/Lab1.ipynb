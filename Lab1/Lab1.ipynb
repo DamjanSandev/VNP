{
 "nbformat": 4,
 "nbformat_minor": 0,
 "metadata": {
  "colab": {
   "provenance": []
  },
  "kernelspec": {
   "name": "python3",
   "display_name": "Python 3 (ipykernel)",
   "language": "python"
  },
  "language_info": {
   "name": "python"
  }
 },
 "cells": [
  {
   "cell_type": "markdown",
   "source": [
    "# Lab Exercise 1. Scraping Static Websites\n"
   ],
   "metadata": {
    "id": "skreU4ZawqQ_"
   }
  },
  {
   "cell_type": "markdown",
   "source": [
    "This is the warmup task for the first laboratory exercise. It consists of scraping static Websites with BeautifulSoap.\n",
    "\n",
    " It should be completed at home and presented at the laboratory."
   ],
   "metadata": {
    "id": "VzAWoqz5wwT9"
   }
  },
  {
   "cell_type": "markdown",
   "source": [
    "**Total points: 2**"
   ],
   "metadata": {
    "id": "qpdvbrsow5EE"
   }
  },
  {
   "cell_type": "markdown",
   "source": [
    "### Task Description"
   ],
   "metadata": {
    "id": "6eDmGLrXx0t8"
   }
  },
  {
   "cell_type": "markdown",
   "source": [
    "Scrape the information about the products on the following page:\n",
    "https://clevershop.mk/product-category/mobilni-laptopi-i-tableti/"
   ],
   "metadata": {
    "id": "RG42MHsDxAP_"
   }
  },
  {
   "cell_type": "markdown",
   "source": [
    "For each product scrape:\n",
    "\n",
    "\n",
    "*   Product title (selector `'.wd-entities-title'`)\n",
    "*   Product regular price (selector `'.woocommerce-Price-amount'`)\n",
    "*   Product discount price (if available), same selector as regular price\n",
    "*   URL to the product page\n",
    "*   Add to cart button URL\n",
    "\n",
    "***Help: There are multiple product pages, for each page you need to send a separate request***\n"
   ],
   "metadata": {
    "id": "uoTcMRl4xP3G"
   }
  },
  {
   "cell_type": "markdown",
   "source": [
    "Save the results as a DataFrame object"
   ],
   "metadata": {
    "id": "tc0QvUR8xxwt"
   }
  },
  {
   "cell_type": "markdown",
   "source": [
    "You can add as many code cells as you need."
   ],
   "metadata": {
    "id": "peGjiUZLzbZt"
   }
  },
  {
   "cell_type": "markdown",
   "source": [
    "________________________________________________________________"
   ],
   "metadata": {
    "id": "b7U-kwKSzUIV"
   }
  },
  {
   "cell_type": "markdown",
   "source": [
    "### Requirements"
   ],
   "metadata": {
    "id": "yn5gyMzNx5Vk"
   }
  },
  {
   "cell_type": "markdown",
   "source": [
    "Import libraries and modules that you are going to use"
   ],
   "metadata": {
    "id": "WZ3ifNLhx7tk"
   }
  },
  {
   "cell_type": "code",
   "source": [
    "from itertools import product\n",
    "\n",
    "import requests\n",
    "from bs4 import BeautifulSoup\n",
    "import pandas as pd"
   ],
   "metadata": {
    "id": "GQ3zSO8WyJC_",
    "ExecuteTime": {
     "end_time": "2024-10-30T12:52:24.290979Z",
     "start_time": "2024-10-30T12:52:22.695768Z"
    }
   },
   "outputs": [],
   "execution_count": 1
  },
  {
   "cell_type": "markdown",
   "source": [
    "### Send HTTP request to the target Website"
   ],
   "metadata": {
    "id": "fsR71mugyJP7"
   }
  },
  {
   "cell_type": "code",
   "source": [
    "url=\"https://clevershop.mk/product-category/mobilni-laptopi-i-tableti/\"\n",
    "response=requests.get(url)"
   ],
   "metadata": {
    "id": "61ImGen2yQff",
    "ExecuteTime": {
     "end_time": "2024-10-30T12:57:04.121713Z",
     "start_time": "2024-10-30T12:57:02.457492Z"
    }
   },
   "outputs": [],
   "execution_count": 2
  },
  {
   "cell_type": "markdown",
   "source": [
    "check the response status code"
   ],
   "metadata": {
    "id": "lFnRsSVJyXit"
   }
  },
  {
   "cell_type": "code",
   "source": "response",
   "metadata": {
    "id": "xy6xJ3RGyXUN",
    "ExecuteTime": {
     "end_time": "2024-10-30T12:57:05.982279Z",
     "start_time": "2024-10-30T12:57:05.962763Z"
    }
   },
   "outputs": [
    {
     "data": {
      "text/plain": [
       "<Response [200]>"
      ]
     },
     "execution_count": 3,
     "metadata": {},
     "output_type": "execute_result"
    }
   ],
   "execution_count": 3
  },
  {
   "cell_type": "markdown",
   "source": [
    "### Parse the response content with BeautifulSoap"
   ],
   "metadata": {
    "id": "-MykzAV4yQ4j"
   }
  },
  {
   "cell_type": "code",
   "source": "soup=BeautifulSoup(response.text,\"html.parser\")",
   "metadata": {
    "id": "F92A3wvlyUBc",
    "ExecuteTime": {
     "end_time": "2024-10-30T13:11:58.602018Z",
     "start_time": "2024-10-30T13:11:58.539210Z"
    }
   },
   "outputs": [],
   "execution_count": 5
  },
  {
   "cell_type": "markdown",
   "source": [
    "### Extract data from the BeautifulSoap object using any selectors, attribute identifiers, etc."
   ],
   "metadata": {
    "id": "F8hifMvVycfV"
   }
  },
  {
   "cell_type": "markdown",
   "source": [
    "* Product title (selector '.wd-entities-title')\n",
    "* Product regular price (selector '.woocommerce-Price-amount')\n",
    "* Product discount price (if available), same selector as regular price\n",
    "* URL to the product page\n",
    "* Add to cart button URL"
   ],
   "metadata": {
    "id": "sHgfHr61y2tD"
   }
  },
  {
   "metadata": {
    "ExecuteTime": {
     "end_time": "2024-10-30T13:44:57.369199Z",
     "start_time": "2024-10-30T13:44:57.342771Z"
    }
   },
   "cell_type": "code",
   "source": [
    "products=soup.select('.product')\n",
    "len(products)\n",
    "parsed_products=[]\n",
    "for product in products:\n",
    "    title=product.select_one('.wd-entities-title').text\n",
    "    price=product.select('.woocommerce-Price-amount')\n",
    "    regular = price[0].text.replace(\"\\xa0ден\",\"\")\n",
    "    discount = price[1].text.replace(\"\\xa0ден\",\"\") if len(price) > 1 else None\n",
    "    card = product.select_one('.product-image-link').get('href')\n",
    "    product_d = {\n",
    "        'title':title,\n",
    "        'price':regular,\n",
    "        'discount':discount,\n",
    "        'card':card\n",
    "    }\n",
    "    parsed_products.append(product_d)\n",
    "print(parsed_products)\n",
    "    "
   ],
   "outputs": [
    {
     "name": "stdout",
     "output_type": "stream",
     "text": [
      "[{'title': 'Acer A315-23-A7KD', 'price': '17.590', 'discount': None, 'card': 'https://clevershop.mk/product/acer-a315-23-a7kd/'}, {'title': 'Acer A315-23-R5P2', 'price': '27.490', 'discount': None, 'card': 'https://clevershop.mk/product/acer-a315-23-r5p2/'}, {'title': 'ACER Aspire 1 A115-22', 'price': '18.999', 'discount': '15.999', 'card': 'https://clevershop.mk/product/acer-aspire-1-nx-a7pex-001/'}, {'title': 'Acer Aspire 3 A315-23-R26A', 'price': '29.990', 'discount': None, 'card': 'https://clevershop.mk/product/acer-aspire-3-a315-23-r26a/'}, {'title': 'Acer Aspire 3 A315-58-33WK', 'price': '24.490', 'discount': None, 'card': 'https://clevershop.mk/product/21498/'}, {'title': 'Acer Aspire 3 A315-58-33WK', 'price': '25.990', 'discount': None, 'card': 'https://clevershop.mk/product/acer-aspire-3-a315-58-33wk/'}, {'title': 'ACER Aspire 5 (A515-56-35KA)', 'price': '23.990', 'discount': None, 'card': 'https://clevershop.mk/product/acer-aspire-5-a515-56-35ka/'}, {'title': 'ACER ASPIRE 5 A515-45', 'price': '29.990', 'discount': None, 'card': 'https://clevershop.mk/product/acer-aspire-5-a515-45/'}, {'title': 'Acer Aspire 5 A515-45-R07Y Silver', 'price': '24.990', 'discount': None, 'card': 'https://clevershop.mk/product/acer-aspire-5-a515-45-r07y-silver/'}, {'title': 'Acer Aspire 5 A515-45-R1FG', 'price': '36.990', 'discount': None, 'card': 'https://clevershop.mk/product/acer-aspire-5-a515-45-r1fgnx-a7yex-005/'}, {'title': 'Acer Aspire 5 A515-56', 'price': '42.490', 'discount': None, 'card': 'https://clevershop.mk/product/acer-aspire-5-a515-56-nx-a1eex-001/'}, {'title': 'Acer Aspire 5 A515-56-3456 Silver', 'price': '23.990', 'discount': None, 'card': 'https://clevershop.mk/product/acer-aspire-5-a515-56-3456-silver/'}, {'title': 'ACER Aspire 7 (A715-41G-R24S), Black', 'price': '42.990', 'discount': None, 'card': 'https://clevershop.mk/product/acer-aspire-7-a715-41g-r24s-black/'}, {'title': 'Acer Aspire 7 A715-42G-R16C', 'price': '54.490', 'discount': '48.490', 'card': 'https://clevershop.mk/product/acer-aspire-7-a715-42g-r16c-nh-qe5ex-003/'}, {'title': 'ACER ED270RPBIIPX 27′ LED VA FHD', 'price': '14.490', 'discount': None, 'card': 'https://clevershop.mk/product/acer-ed270rpbiipx-27-led-va-fhd/'}, {'title': 'ACER ED273BBMIIX 27′ LED VA FHD', 'price': '11.990', 'discount': None, 'card': 'https://clevershop.mk/product/acer-ed273bbmiix-27-led-va-fhd/'}, {'title': 'ACER ED323QURABIDPX 32” LED VA WQHD', 'price': '20.990', 'discount': None, 'card': 'https://clevershop.mk/product/acer-ed323qurabidpx-32-led-va-wqhd/'}, {'title': 'ACER K272HLEbid 27” LED VA FHD', 'price': '9.690', 'discount': None, 'card': 'https://clevershop.mk/product/21743/'}, {'title': 'ACER LED 19.5”, V206HQLAB, Wide', 'price': '5.290', 'discount': None, 'card': 'https://clevershop.mk/product/acer-led-19-5-v206hqlab-wide/'}, {'title': 'ACER LED, 21.5” V226HQLBbi', 'price': '6.290', 'discount': None, 'card': 'https://clevershop.mk/product/acer-led-21-5-v226hqlbbi/'}, {'title': 'ACER Nitro 5 (AN515-57-53A7)', 'price': '51.990', 'discount': None, 'card': 'https://clevershop.mk/product/acer-nitro-5-an515-57-53a7/'}, {'title': 'Acer Nitro 5 (AN515-57-53AE)', 'price': '47.990', 'discount': None, 'card': 'https://clevershop.mk/product/acer-nitro-5-an515-57/'}, {'title': 'Acer Nitro 5 (AN515-57-76C9)', 'price': '60.990', 'discount': None, 'card': 'https://clevershop.mk/product/acer-nitro-5-an515-57-2/'}, {'title': 'Acer Nitro 5 Gaming AN515-45', 'price': '71.990', 'discount': None, 'card': 'https://clevershop.mk/product/acer-nitro-5-gaming-an515-45/'}]\n"
     ]
    }
   ],
   "execution_count": 31
  },
  {
   "cell_type": "markdown",
   "source": [
    "Repeat the extraction process for each page of products"
   ],
   "metadata": {
    "id": "gToy7d5Jy9Qk"
   }
  },
  {
   "cell_type": "markdown",
   "source": [
    "### Create a pandas DataFrame with the scraped products"
   ],
   "metadata": {
    "id": "R4OIUt0AynuU"
   }
  },
  {
   "cell_type": "code",
   "source": [
    "df=pd.DataFrame(parsed_products)\n",
    "df"
   ],
   "metadata": {
    "id": "-wCzGEj8yrKU",
    "ExecuteTime": {
     "end_time": "2024-10-30T13:47:22.120238Z",
     "start_time": "2024-10-30T13:47:22.111937Z"
    }
   },
   "outputs": [
    {
     "data": {
      "text/plain": [
       "                                   title   price discount  \\\n",
       "0                      Acer A315-23-A7KD  17.590     None   \n",
       "1                      Acer A315-23-R5P2  27.490     None   \n",
       "2                  ACER Aspire 1 A115-22  18.999   15.999   \n",
       "3             Acer Aspire 3 A315-23-R26A  29.990     None   \n",
       "4             Acer Aspire 3 A315-58-33WK  24.490     None   \n",
       "5             Acer Aspire 3 A315-58-33WK  25.990     None   \n",
       "6           ACER Aspire 5 (A515-56-35KA)  23.990     None   \n",
       "7                  ACER ASPIRE 5 A515-45  29.990     None   \n",
       "8      Acer Aspire 5 A515-45-R07Y Silver  24.990     None   \n",
       "9             Acer Aspire 5 A515-45-R1FG  36.990     None   \n",
       "10                 Acer Aspire 5 A515-56  42.490     None   \n",
       "11     Acer Aspire 5 A515-56-3456 Silver  23.990     None   \n",
       "12  ACER Aspire 7 (A715-41G-R24S), Black  42.990     None   \n",
       "13           Acer Aspire 7 A715-42G-R16C  54.490   48.490   \n",
       "14      ACER ED270RPBIIPX 27′ LED VA FHD  14.490     None   \n",
       "15       ACER ED273BBMIIX 27′ LED VA FHD  11.990     None   \n",
       "16   ACER ED323QURABIDPX 32” LED VA WQHD  20.990     None   \n",
       "17        ACER K272HLEbid 27” LED VA FHD   9.690     None   \n",
       "18       ACER LED 19.5”, V206HQLAB, Wide   5.290     None   \n",
       "19            ACER LED, 21.5” V226HQLBbi   6.290     None   \n",
       "20          ACER Nitro 5 (AN515-57-53A7)  51.990     None   \n",
       "21          Acer Nitro 5 (AN515-57-53AE)  47.990     None   \n",
       "22          Acer Nitro 5 (AN515-57-76C9)  60.990     None   \n",
       "23          Acer Nitro 5 Gaming AN515-45  71.990     None   \n",
       "\n",
       "                                                 card  \n",
       "0    https://clevershop.mk/product/acer-a315-23-a7kd/  \n",
       "1    https://clevershop.mk/product/acer-a315-23-r5p2/  \n",
       "2   https://clevershop.mk/product/acer-aspire-1-nx...  \n",
       "3   https://clevershop.mk/product/acer-aspire-3-a3...  \n",
       "4                https://clevershop.mk/product/21498/  \n",
       "5   https://clevershop.mk/product/acer-aspire-3-a3...  \n",
       "6   https://clevershop.mk/product/acer-aspire-5-a5...  \n",
       "7   https://clevershop.mk/product/acer-aspire-5-a5...  \n",
       "8   https://clevershop.mk/product/acer-aspire-5-a5...  \n",
       "9   https://clevershop.mk/product/acer-aspire-5-a5...  \n",
       "10  https://clevershop.mk/product/acer-aspire-5-a5...  \n",
       "11  https://clevershop.mk/product/acer-aspire-5-a5...  \n",
       "12  https://clevershop.mk/product/acer-aspire-7-a7...  \n",
       "13  https://clevershop.mk/product/acer-aspire-7-a7...  \n",
       "14  https://clevershop.mk/product/acer-ed270rpbiip...  \n",
       "15  https://clevershop.mk/product/acer-ed273bbmiix...  \n",
       "16  https://clevershop.mk/product/acer-ed323qurabi...  \n",
       "17               https://clevershop.mk/product/21743/  \n",
       "18  https://clevershop.mk/product/acer-led-19-5-v2...  \n",
       "19  https://clevershop.mk/product/acer-led-21-5-v2...  \n",
       "20  https://clevershop.mk/product/acer-nitro-5-an5...  \n",
       "21  https://clevershop.mk/product/acer-nitro-5-an5...  \n",
       "22  https://clevershop.mk/product/acer-nitro-5-an5...  \n",
       "23  https://clevershop.mk/product/acer-nitro-5-gam...  "
      ],
      "text/html": [
       "<div>\n",
       "<style scoped>\n",
       "    .dataframe tbody tr th:only-of-type {\n",
       "        vertical-align: middle;\n",
       "    }\n",
       "\n",
       "    .dataframe tbody tr th {\n",
       "        vertical-align: top;\n",
       "    }\n",
       "\n",
       "    .dataframe thead th {\n",
       "        text-align: right;\n",
       "    }\n",
       "</style>\n",
       "<table border=\"1\" class=\"dataframe\">\n",
       "  <thead>\n",
       "    <tr style=\"text-align: right;\">\n",
       "      <th></th>\n",
       "      <th>title</th>\n",
       "      <th>price</th>\n",
       "      <th>discount</th>\n",
       "      <th>card</th>\n",
       "    </tr>\n",
       "  </thead>\n",
       "  <tbody>\n",
       "    <tr>\n",
       "      <th>0</th>\n",
       "      <td>Acer A315-23-A7KD</td>\n",
       "      <td>17.590</td>\n",
       "      <td>None</td>\n",
       "      <td>https://clevershop.mk/product/acer-a315-23-a7kd/</td>\n",
       "    </tr>\n",
       "    <tr>\n",
       "      <th>1</th>\n",
       "      <td>Acer A315-23-R5P2</td>\n",
       "      <td>27.490</td>\n",
       "      <td>None</td>\n",
       "      <td>https://clevershop.mk/product/acer-a315-23-r5p2/</td>\n",
       "    </tr>\n",
       "    <tr>\n",
       "      <th>2</th>\n",
       "      <td>ACER Aspire 1 A115-22</td>\n",
       "      <td>18.999</td>\n",
       "      <td>15.999</td>\n",
       "      <td>https://clevershop.mk/product/acer-aspire-1-nx...</td>\n",
       "    </tr>\n",
       "    <tr>\n",
       "      <th>3</th>\n",
       "      <td>Acer Aspire 3 A315-23-R26A</td>\n",
       "      <td>29.990</td>\n",
       "      <td>None</td>\n",
       "      <td>https://clevershop.mk/product/acer-aspire-3-a3...</td>\n",
       "    </tr>\n",
       "    <tr>\n",
       "      <th>4</th>\n",
       "      <td>Acer Aspire 3 A315-58-33WK</td>\n",
       "      <td>24.490</td>\n",
       "      <td>None</td>\n",
       "      <td>https://clevershop.mk/product/21498/</td>\n",
       "    </tr>\n",
       "    <tr>\n",
       "      <th>5</th>\n",
       "      <td>Acer Aspire 3 A315-58-33WK</td>\n",
       "      <td>25.990</td>\n",
       "      <td>None</td>\n",
       "      <td>https://clevershop.mk/product/acer-aspire-3-a3...</td>\n",
       "    </tr>\n",
       "    <tr>\n",
       "      <th>6</th>\n",
       "      <td>ACER Aspire 5 (A515-56-35KA)</td>\n",
       "      <td>23.990</td>\n",
       "      <td>None</td>\n",
       "      <td>https://clevershop.mk/product/acer-aspire-5-a5...</td>\n",
       "    </tr>\n",
       "    <tr>\n",
       "      <th>7</th>\n",
       "      <td>ACER ASPIRE 5 A515-45</td>\n",
       "      <td>29.990</td>\n",
       "      <td>None</td>\n",
       "      <td>https://clevershop.mk/product/acer-aspire-5-a5...</td>\n",
       "    </tr>\n",
       "    <tr>\n",
       "      <th>8</th>\n",
       "      <td>Acer Aspire 5 A515-45-R07Y Silver</td>\n",
       "      <td>24.990</td>\n",
       "      <td>None</td>\n",
       "      <td>https://clevershop.mk/product/acer-aspire-5-a5...</td>\n",
       "    </tr>\n",
       "    <tr>\n",
       "      <th>9</th>\n",
       "      <td>Acer Aspire 5 A515-45-R1FG</td>\n",
       "      <td>36.990</td>\n",
       "      <td>None</td>\n",
       "      <td>https://clevershop.mk/product/acer-aspire-5-a5...</td>\n",
       "    </tr>\n",
       "    <tr>\n",
       "      <th>10</th>\n",
       "      <td>Acer Aspire 5 A515-56</td>\n",
       "      <td>42.490</td>\n",
       "      <td>None</td>\n",
       "      <td>https://clevershop.mk/product/acer-aspire-5-a5...</td>\n",
       "    </tr>\n",
       "    <tr>\n",
       "      <th>11</th>\n",
       "      <td>Acer Aspire 5 A515-56-3456 Silver</td>\n",
       "      <td>23.990</td>\n",
       "      <td>None</td>\n",
       "      <td>https://clevershop.mk/product/acer-aspire-5-a5...</td>\n",
       "    </tr>\n",
       "    <tr>\n",
       "      <th>12</th>\n",
       "      <td>ACER Aspire 7 (A715-41G-R24S), Black</td>\n",
       "      <td>42.990</td>\n",
       "      <td>None</td>\n",
       "      <td>https://clevershop.mk/product/acer-aspire-7-a7...</td>\n",
       "    </tr>\n",
       "    <tr>\n",
       "      <th>13</th>\n",
       "      <td>Acer Aspire 7 A715-42G-R16C</td>\n",
       "      <td>54.490</td>\n",
       "      <td>48.490</td>\n",
       "      <td>https://clevershop.mk/product/acer-aspire-7-a7...</td>\n",
       "    </tr>\n",
       "    <tr>\n",
       "      <th>14</th>\n",
       "      <td>ACER ED270RPBIIPX 27′ LED VA FHD</td>\n",
       "      <td>14.490</td>\n",
       "      <td>None</td>\n",
       "      <td>https://clevershop.mk/product/acer-ed270rpbiip...</td>\n",
       "    </tr>\n",
       "    <tr>\n",
       "      <th>15</th>\n",
       "      <td>ACER ED273BBMIIX 27′ LED VA FHD</td>\n",
       "      <td>11.990</td>\n",
       "      <td>None</td>\n",
       "      <td>https://clevershop.mk/product/acer-ed273bbmiix...</td>\n",
       "    </tr>\n",
       "    <tr>\n",
       "      <th>16</th>\n",
       "      <td>ACER ED323QURABIDPX 32” LED VA WQHD</td>\n",
       "      <td>20.990</td>\n",
       "      <td>None</td>\n",
       "      <td>https://clevershop.mk/product/acer-ed323qurabi...</td>\n",
       "    </tr>\n",
       "    <tr>\n",
       "      <th>17</th>\n",
       "      <td>ACER K272HLEbid 27” LED VA FHD</td>\n",
       "      <td>9.690</td>\n",
       "      <td>None</td>\n",
       "      <td>https://clevershop.mk/product/21743/</td>\n",
       "    </tr>\n",
       "    <tr>\n",
       "      <th>18</th>\n",
       "      <td>ACER LED 19.5”, V206HQLAB, Wide</td>\n",
       "      <td>5.290</td>\n",
       "      <td>None</td>\n",
       "      <td>https://clevershop.mk/product/acer-led-19-5-v2...</td>\n",
       "    </tr>\n",
       "    <tr>\n",
       "      <th>19</th>\n",
       "      <td>ACER LED, 21.5” V226HQLBbi</td>\n",
       "      <td>6.290</td>\n",
       "      <td>None</td>\n",
       "      <td>https://clevershop.mk/product/acer-led-21-5-v2...</td>\n",
       "    </tr>\n",
       "    <tr>\n",
       "      <th>20</th>\n",
       "      <td>ACER Nitro 5 (AN515-57-53A7)</td>\n",
       "      <td>51.990</td>\n",
       "      <td>None</td>\n",
       "      <td>https://clevershop.mk/product/acer-nitro-5-an5...</td>\n",
       "    </tr>\n",
       "    <tr>\n",
       "      <th>21</th>\n",
       "      <td>Acer Nitro 5 (AN515-57-53AE)</td>\n",
       "      <td>47.990</td>\n",
       "      <td>None</td>\n",
       "      <td>https://clevershop.mk/product/acer-nitro-5-an5...</td>\n",
       "    </tr>\n",
       "    <tr>\n",
       "      <th>22</th>\n",
       "      <td>Acer Nitro 5 (AN515-57-76C9)</td>\n",
       "      <td>60.990</td>\n",
       "      <td>None</td>\n",
       "      <td>https://clevershop.mk/product/acer-nitro-5-an5...</td>\n",
       "    </tr>\n",
       "    <tr>\n",
       "      <th>23</th>\n",
       "      <td>Acer Nitro 5 Gaming AN515-45</td>\n",
       "      <td>71.990</td>\n",
       "      <td>None</td>\n",
       "      <td>https://clevershop.mk/product/acer-nitro-5-gam...</td>\n",
       "    </tr>\n",
       "  </tbody>\n",
       "</table>\n",
       "</div>"
      ]
     },
     "execution_count": 35,
     "metadata": {},
     "output_type": "execute_result"
    }
   ],
   "execution_count": 35
  },
  {
   "cell_type": "markdown",
   "source": [
    "Save the dataframe as `.csv`"
   ],
   "metadata": {
    "id": "Rxbi54EOyrb8"
   }
  },
  {
   "cell_type": "code",
   "source": "df.to_csv('products.csv',index=False)",
   "metadata": {
    "id": "TLNfZQ07yuQE",
    "ExecuteTime": {
     "end_time": "2024-10-30T13:49:04.709240Z",
     "start_time": "2024-10-30T13:49:04.704483Z"
    }
   },
   "outputs": [],
   "execution_count": 41
  },
  {
   "metadata": {
    "ExecuteTime": {
     "end_time": "2024-10-30T13:48:56.154218Z",
     "start_time": "2024-10-30T13:48:56.151922Z"
    }
   },
   "cell_type": "code",
   "source": "",
   "outputs": [],
   "execution_count": null
  },
  {
   "metadata": {},
   "cell_type": "code",
   "outputs": [],
   "execution_count": null,
   "source": ""
  }
 ]
}
